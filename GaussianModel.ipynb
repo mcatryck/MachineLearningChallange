{
 "cells": [
  {
   "cell_type": "code",
   "execution_count": 1,
   "id": "0b53cec2",
   "metadata": {},
   "outputs": [
    {
     "name": "stderr",
     "output_type": "stream",
     "text": [
      "Intel(R) Extension for Scikit-learn* enabled (https://github.com/intel/scikit-learn-intelex)\n"
     ]
    }
   ],
   "source": [
    "# imports:\n",
    "from sklearnex import patch_sklearn\n",
    "patch_sklearn()\n",
    "\n",
    "\n",
    "import numpy as np\n",
    "import pandas as pd\n",
    "import os\n",
    "import sklearn\n",
    "import csv\n",
    "import pickle\n",
    "import time\n",
    "import matplotlib.pyplot as plt\n",
    "\n",
    "%matplotlib notebook\n",
    "\n",
    "from tsfresh import extract_features\n",
    "from tsfresh import extract_relevant_features\n",
    "from sklearn.pipeline import Pipeline\n",
    "from sklearn.model_selection import GridSearchCV\n",
    "from sklearn.feature_selection import SelectKBest, VarianceThreshold, SelectFromModel \n",
    "from sklearn.linear_model import LinearRegression, SGDRegressor, Ridge\n",
    "from sklearn.metrics import mean_absolute_error\n",
    "from sklearn.preprocessing import Normalizer, StandardScaler, RobustScaler, MinMaxScaler\n",
    "from sklearn.preprocessing import PowerTransformer, QuantileTransformer\n",
    "from sklearn.preprocessing import LabelEncoder\n",
    "from sklearn.model_selection import GroupKFold, StratifiedKFold, KFold, StratifiedGroupKFold, cross_validate\n",
    "from sklearn.model_selection import learning_curve\n",
    "from sklearn.compose import make_column_transformer\n",
    "from sklearn.decomposition import KernelPCA\n",
    "from sklearn.tree import DecisionTreeRegressor\n",
    "from sklearn.svm import SVC\n",
    "from sklearn.kernel_ridge import KernelRidge\n",
    "from sklearn.gaussian_process import GaussianProcessRegressor\n",
    "from sklearn.gaussian_process.kernels import RBF, ExpSineSquared, Exponentiation, ConstantKernel"
   ]
  },
  {
   "cell_type": "code",
   "execution_count": 2,
   "id": "f371dc98",
   "metadata": {},
   "outputs": [
    {
     "name": "stdout",
     "output_type": "stream",
     "text": [
      "<class 'pandas.core.frame.DataFrame'>\n",
      "Int64Index: 4000 entries, 0 to 1999\n",
      "Data columns (total 5 columns):\n",
      " #   Column  Non-Null Count  Dtype  \n",
      "---  ------  --------------  -----  \n",
      " 0   0       4000 non-null   float64\n",
      " 1   1       4000 non-null   float64\n",
      " 2   2       4000 non-null   float64\n",
      " 3   time    4000 non-null   int64  \n",
      " 4   index   4000 non-null   int64  \n",
      "dtypes: float64(3), int64(2)\n",
      "memory usage: 187.5 KB\n"
     ]
    }
   ],
   "source": [
    "filename= os.path.join('train', 'train_0.csv')\n",
    "df0 = pd.read_csv(filename, index_col=0)\n",
    "df0['time'] = df0.index\n",
    "df0['index'] = 0\n",
    "filename= os.path.join('train', 'train_1.csv')\n",
    "df1 = pd.read_csv(filename, index_col=0)\n",
    "df1['time'] = df1.index\n",
    "df1['index'] = 1\n",
    "df0 = pd.concat([df0,df1])\n",
    "df0.info()"
   ]
  },
  {
   "cell_type": "code",
   "execution_count": 3,
   "id": "072a8dd0",
   "metadata": {},
   "outputs": [],
   "source": [
    "DATAPATH = 'train'\n",
    "DATASET = 'train_'\n",
    "\n",
    "df = pd.DataFrame(dtype=float)\n",
    "for i in range(1100):\n",
    "    filename= os.path.join(DATAPATH, DATASET +str(i)+ '.csv')\n",
    "    df_ = pd.read_csv(filename, index_col=0)\n",
    "    df_['time'] = df_.index\n",
    "    df_['index'] = i\n",
    "    df = pd.concat([df, df_])"
   ]
  },
  {
   "cell_type": "code",
   "execution_count": 4,
   "id": "41799a84",
   "metadata": {},
   "outputs": [
    {
     "name": "stdout",
     "output_type": "stream",
     "text": [
      "<class 'pandas.core.frame.DataFrame'>\n",
      "Float64Index: 1100 entries, 0.0 to 0.0\n",
      "Columns: 2366 entries, 0__has_duplicate_max to 2__mean_n_absolute_max__number_of_maxima_7\n",
      "dtypes: float64(2366)\n",
      "memory usage: 19.9 MB\n"
     ]
    }
   ],
   "source": [
    "extracted_features =  pd.read_csv('raw_data.csv', index_col=0)\n",
    "extracted_features.info()"
   ]
  },
  {
   "cell_type": "code",
   "execution_count": 5,
   "id": "3919b549",
   "metadata": {},
   "outputs": [],
   "source": [
    "data = extracted_features.dropna(axis=1)"
   ]
  },
  {
   "cell_type": "code",
   "execution_count": 6,
   "id": "2f08937d",
   "metadata": {},
   "outputs": [],
   "source": [
    "df_meta = pd.read_csv(\"train_meta.csv\")\n",
    "y = df_meta[\"label\"]\n",
    "groups = []\n",
    "for i in range(len(y)):\n",
    "    groups.append(df_meta.loc[i][\"direction\"]+str(df_meta.loc[i][\"label\"])+str(df_meta.loc[i][\"speed\"])) #\n",
    "groups = pd.DataFrame(groups)\n",
    "#groups = df_meta[\"group\"]\n",
    "y = y.to_numpy()"
   ]
  },
  {
   "cell_type": "code",
   "execution_count": 7,
   "id": "4beefb15",
   "metadata": {},
   "outputs": [],
   "source": [
    "n_folds =  15# Max 15 folds\n",
    "cv = KFold(n_splits=n_folds, shuffle=True,random_state=1000)"
   ]
  },
  {
   "cell_type": "code",
   "execution_count": 8,
   "id": "9d3b2ffd",
   "metadata": {},
   "outputs": [
    {
     "name": "stdout",
     "output_type": "stream",
     "text": [
      "Fitting 15 folds for each of 1 candidates, totalling 15 fits\n"
     ]
    },
    {
     "data": {
      "text/html": [
       "<style>#sk-container-id-1 {color: black;background-color: white;}#sk-container-id-1 pre{padding: 0;}#sk-container-id-1 div.sk-toggleable {background-color: white;}#sk-container-id-1 label.sk-toggleable__label {cursor: pointer;display: block;width: 100%;margin-bottom: 0;padding: 0.3em;box-sizing: border-box;text-align: center;}#sk-container-id-1 label.sk-toggleable__label-arrow:before {content: \"▸\";float: left;margin-right: 0.25em;color: #696969;}#sk-container-id-1 label.sk-toggleable__label-arrow:hover:before {color: black;}#sk-container-id-1 div.sk-estimator:hover label.sk-toggleable__label-arrow:before {color: black;}#sk-container-id-1 div.sk-toggleable__content {max-height: 0;max-width: 0;overflow: hidden;text-align: left;background-color: #f0f8ff;}#sk-container-id-1 div.sk-toggleable__content pre {margin: 0.2em;color: black;border-radius: 0.25em;background-color: #f0f8ff;}#sk-container-id-1 input.sk-toggleable__control:checked~div.sk-toggleable__content {max-height: 200px;max-width: 100%;overflow: auto;}#sk-container-id-1 input.sk-toggleable__control:checked~label.sk-toggleable__label-arrow:before {content: \"▾\";}#sk-container-id-1 div.sk-estimator input.sk-toggleable__control:checked~label.sk-toggleable__label {background-color: #d4ebff;}#sk-container-id-1 div.sk-label input.sk-toggleable__control:checked~label.sk-toggleable__label {background-color: #d4ebff;}#sk-container-id-1 input.sk-hidden--visually {border: 0;clip: rect(1px 1px 1px 1px);clip: rect(1px, 1px, 1px, 1px);height: 1px;margin: -1px;overflow: hidden;padding: 0;position: absolute;width: 1px;}#sk-container-id-1 div.sk-estimator {font-family: monospace;background-color: #f0f8ff;border: 1px dotted black;border-radius: 0.25em;box-sizing: border-box;margin-bottom: 0.5em;}#sk-container-id-1 div.sk-estimator:hover {background-color: #d4ebff;}#sk-container-id-1 div.sk-parallel-item::after {content: \"\";width: 100%;border-bottom: 1px solid gray;flex-grow: 1;}#sk-container-id-1 div.sk-label:hover label.sk-toggleable__label {background-color: #d4ebff;}#sk-container-id-1 div.sk-serial::before {content: \"\";position: absolute;border-left: 1px solid gray;box-sizing: border-box;top: 0;bottom: 0;left: 50%;z-index: 0;}#sk-container-id-1 div.sk-serial {display: flex;flex-direction: column;align-items: center;background-color: white;padding-right: 0.2em;padding-left: 0.2em;position: relative;}#sk-container-id-1 div.sk-item {position: relative;z-index: 1;}#sk-container-id-1 div.sk-parallel {display: flex;align-items: stretch;justify-content: center;background-color: white;position: relative;}#sk-container-id-1 div.sk-item::before, #sk-container-id-1 div.sk-parallel-item::before {content: \"\";position: absolute;border-left: 1px solid gray;box-sizing: border-box;top: 0;bottom: 0;left: 50%;z-index: -1;}#sk-container-id-1 div.sk-parallel-item {display: flex;flex-direction: column;z-index: 1;position: relative;background-color: white;}#sk-container-id-1 div.sk-parallel-item:first-child::after {align-self: flex-end;width: 50%;}#sk-container-id-1 div.sk-parallel-item:last-child::after {align-self: flex-start;width: 50%;}#sk-container-id-1 div.sk-parallel-item:only-child::after {width: 0;}#sk-container-id-1 div.sk-dashed-wrapped {border: 1px dashed gray;margin: 0 0.4em 0.5em 0.4em;box-sizing: border-box;padding-bottom: 0.4em;background-color: white;}#sk-container-id-1 div.sk-label label {font-family: monospace;font-weight: bold;display: inline-block;line-height: 1.2em;}#sk-container-id-1 div.sk-label-container {text-align: center;}#sk-container-id-1 div.sk-container {/* jupyter's `normalize.less` sets `[hidden] { display: none; }` but bootstrap.min.css set `[hidden] { display: none !important; }` so we also need the `!important` here to be able to override the default hidden behavior on the sphinx rendered scikit-learn.org. See: https://github.com/scikit-learn/scikit-learn/issues/21755 */display: inline-block !important;position: relative;}#sk-container-id-1 div.sk-text-repr-fallback {display: none;}</style><div id=\"sk-container-id-1\" class=\"sk-top-container\"><div class=\"sk-text-repr-fallback\"><pre>GridSearchCV(cv=KFold(n_splits=15, random_state=1000, shuffle=True),\n",
       "             estimator=Pipeline(steps=[(&#x27;preprocessing&#x27;,\n",
       "                                        Pipeline(steps=[(&#x27;VT1&#x27;,\n",
       "                                                         VarianceThreshold(threshold=0)),\n",
       "                                                        (&#x27;QT&#x27;,\n",
       "                                                         QuantileTransformer()),\n",
       "                                                        (&#x27;VT2&#x27;,\n",
       "                                                         VarianceThreshold(threshold=0))])),\n",
       "                                       (&#x27;feature_selection&#x27;,\n",
       "                                        Pipeline(steps=[(&#x27;selectkbest&#x27;,\n",
       "                                                         SelectKBest())])),\n",
       "                                       (&#x27;classifier&#x27;,\n",
       "                                        Pipeline(steps=[(&#x27;clf&#x27;,\n",
       "                                                         GaussianProcessRegressor())]))]),\n",
       "             n_jobs=4,\n",
       "             param_grid={&#x27;classifier__clf__alpha&#x27;: [0.1],\n",
       "                         &#x27;feature_selection__selectkbest__k&#x27;: [80]},\n",
       "             return_train_score=True, scoring=&#x27;neg_mean_absolute_error&#x27;,\n",
       "             verbose=3)</pre><b>In a Jupyter environment, please rerun this cell to show the HTML representation or trust the notebook. <br />On GitHub, the HTML representation is unable to render, please try loading this page with nbviewer.org.</b></div><div class=\"sk-container\" hidden><div class=\"sk-item sk-dashed-wrapped\"><div class=\"sk-label-container\"><div class=\"sk-label sk-toggleable\"><input class=\"sk-toggleable__control sk-hidden--visually\" id=\"sk-estimator-id-1\" type=\"checkbox\" ><label for=\"sk-estimator-id-1\" class=\"sk-toggleable__label sk-toggleable__label-arrow\">GridSearchCV</label><div class=\"sk-toggleable__content\"><pre>GridSearchCV(cv=KFold(n_splits=15, random_state=1000, shuffle=True),\n",
       "             estimator=Pipeline(steps=[(&#x27;preprocessing&#x27;,\n",
       "                                        Pipeline(steps=[(&#x27;VT1&#x27;,\n",
       "                                                         VarianceThreshold(threshold=0)),\n",
       "                                                        (&#x27;QT&#x27;,\n",
       "                                                         QuantileTransformer()),\n",
       "                                                        (&#x27;VT2&#x27;,\n",
       "                                                         VarianceThreshold(threshold=0))])),\n",
       "                                       (&#x27;feature_selection&#x27;,\n",
       "                                        Pipeline(steps=[(&#x27;selectkbest&#x27;,\n",
       "                                                         SelectKBest())])),\n",
       "                                       (&#x27;classifier&#x27;,\n",
       "                                        Pipeline(steps=[(&#x27;clf&#x27;,\n",
       "                                                         GaussianProcessRegressor())]))]),\n",
       "             n_jobs=4,\n",
       "             param_grid={&#x27;classifier__clf__alpha&#x27;: [0.1],\n",
       "                         &#x27;feature_selection__selectkbest__k&#x27;: [80]},\n",
       "             return_train_score=True, scoring=&#x27;neg_mean_absolute_error&#x27;,\n",
       "             verbose=3)</pre></div></div></div><div class=\"sk-parallel\"><div class=\"sk-parallel-item\"><div class=\"sk-item\"><div class=\"sk-label-container\"><div class=\"sk-label sk-toggleable\"><input class=\"sk-toggleable__control sk-hidden--visually\" id=\"sk-estimator-id-2\" type=\"checkbox\" ><label for=\"sk-estimator-id-2\" class=\"sk-toggleable__label sk-toggleable__label-arrow\">estimator: Pipeline</label><div class=\"sk-toggleable__content\"><pre>Pipeline(steps=[(&#x27;preprocessing&#x27;,\n",
       "                 Pipeline(steps=[(&#x27;VT1&#x27;, VarianceThreshold(threshold=0)),\n",
       "                                 (&#x27;QT&#x27;, QuantileTransformer()),\n",
       "                                 (&#x27;VT2&#x27;, VarianceThreshold(threshold=0))])),\n",
       "                (&#x27;feature_selection&#x27;,\n",
       "                 Pipeline(steps=[(&#x27;selectkbest&#x27;, SelectKBest())])),\n",
       "                (&#x27;classifier&#x27;,\n",
       "                 Pipeline(steps=[(&#x27;clf&#x27;, GaussianProcessRegressor())]))])</pre></div></div></div><div class=\"sk-serial\"><div class=\"sk-item\"><div class=\"sk-serial\"><div class=\"sk-item\"><div class=\"sk-label-container\"><div class=\"sk-label sk-toggleable\"><input class=\"sk-toggleable__control sk-hidden--visually\" id=\"sk-estimator-id-3\" type=\"checkbox\" ><label for=\"sk-estimator-id-3\" class=\"sk-toggleable__label sk-toggleable__label-arrow\">preprocessing: Pipeline</label><div class=\"sk-toggleable__content\"><pre>Pipeline(steps=[(&#x27;VT1&#x27;, VarianceThreshold(threshold=0)),\n",
       "                (&#x27;QT&#x27;, QuantileTransformer()),\n",
       "                (&#x27;VT2&#x27;, VarianceThreshold(threshold=0))])</pre></div></div></div><div class=\"sk-serial\"><div class=\"sk-item\"><div class=\"sk-estimator sk-toggleable\"><input class=\"sk-toggleable__control sk-hidden--visually\" id=\"sk-estimator-id-4\" type=\"checkbox\" ><label for=\"sk-estimator-id-4\" class=\"sk-toggleable__label sk-toggleable__label-arrow\">VarianceThreshold</label><div class=\"sk-toggleable__content\"><pre>VarianceThreshold(threshold=0)</pre></div></div></div><div class=\"sk-item\"><div class=\"sk-estimator sk-toggleable\"><input class=\"sk-toggleable__control sk-hidden--visually\" id=\"sk-estimator-id-5\" type=\"checkbox\" ><label for=\"sk-estimator-id-5\" class=\"sk-toggleable__label sk-toggleable__label-arrow\">QuantileTransformer</label><div class=\"sk-toggleable__content\"><pre>QuantileTransformer()</pre></div></div></div><div class=\"sk-item\"><div class=\"sk-estimator sk-toggleable\"><input class=\"sk-toggleable__control sk-hidden--visually\" id=\"sk-estimator-id-6\" type=\"checkbox\" ><label for=\"sk-estimator-id-6\" class=\"sk-toggleable__label sk-toggleable__label-arrow\">VarianceThreshold</label><div class=\"sk-toggleable__content\"><pre>VarianceThreshold(threshold=0)</pre></div></div></div></div></div><div class=\"sk-item\"><div class=\"sk-label-container\"><div class=\"sk-label sk-toggleable\"><input class=\"sk-toggleable__control sk-hidden--visually\" id=\"sk-estimator-id-7\" type=\"checkbox\" ><label for=\"sk-estimator-id-7\" class=\"sk-toggleable__label sk-toggleable__label-arrow\">feature_selection: Pipeline</label><div class=\"sk-toggleable__content\"><pre>Pipeline(steps=[(&#x27;selectkbest&#x27;, SelectKBest())])</pre></div></div></div><div class=\"sk-serial\"><div class=\"sk-item\"><div class=\"sk-estimator sk-toggleable\"><input class=\"sk-toggleable__control sk-hidden--visually\" id=\"sk-estimator-id-8\" type=\"checkbox\" ><label for=\"sk-estimator-id-8\" class=\"sk-toggleable__label sk-toggleable__label-arrow\">SelectKBest</label><div class=\"sk-toggleable__content\"><pre>SelectKBest()</pre></div></div></div></div></div><div class=\"sk-item\"><div class=\"sk-label-container\"><div class=\"sk-label sk-toggleable\"><input class=\"sk-toggleable__control sk-hidden--visually\" id=\"sk-estimator-id-9\" type=\"checkbox\" ><label for=\"sk-estimator-id-9\" class=\"sk-toggleable__label sk-toggleable__label-arrow\">classifier: Pipeline</label><div class=\"sk-toggleable__content\"><pre>Pipeline(steps=[(&#x27;clf&#x27;, GaussianProcessRegressor())])</pre></div></div></div><div class=\"sk-serial\"><div class=\"sk-item\"><div class=\"sk-estimator sk-toggleable\"><input class=\"sk-toggleable__control sk-hidden--visually\" id=\"sk-estimator-id-10\" type=\"checkbox\" ><label for=\"sk-estimator-id-10\" class=\"sk-toggleable__label sk-toggleable__label-arrow\">GaussianProcessRegressor</label><div class=\"sk-toggleable__content\"><pre>GaussianProcessRegressor()</pre></div></div></div></div></div></div></div></div></div></div></div></div></div></div>"
      ],
      "text/plain": [
       "GridSearchCV(cv=KFold(n_splits=15, random_state=1000, shuffle=True),\n",
       "             estimator=Pipeline(steps=[('preprocessing',\n",
       "                                        Pipeline(steps=[('VT1',\n",
       "                                                         VarianceThreshold(threshold=0)),\n",
       "                                                        ('QT',\n",
       "                                                         QuantileTransformer()),\n",
       "                                                        ('VT2',\n",
       "                                                         VarianceThreshold(threshold=0))])),\n",
       "                                       ('feature_selection',\n",
       "                                        Pipeline(steps=[('selectkbest',\n",
       "                                                         SelectKBest())])),\n",
       "                                       ('classifier',\n",
       "                                        Pipeline(steps=[('clf',\n",
       "                                                         GaussianProcessRegressor())]))]),\n",
       "             n_jobs=4,\n",
       "             param_grid={'classifier__clf__alpha': [0.1],\n",
       "                         'feature_selection__selectkbest__k': [80]},\n",
       "             return_train_score=True, scoring='neg_mean_absolute_error',\n",
       "             verbose=3)"
      ]
     },
     "execution_count": 8,
     "metadata": {},
     "output_type": "execute_result"
    }
   ],
   "source": [
    "preprocessing = Pipeline([\n",
    "                        ('VT1', VarianceThreshold(threshold=0)),\n",
    "                        ('QT', QuantileTransformer()),\n",
    "                        ('VT2', VarianceThreshold(threshold=0))\n",
    "                         ])  \n",
    "\n",
    "#  Feature selection, you can also try others\n",
    "feature_selection = Pipeline([('selectkbest', SelectKBest())])  \n",
    "\n",
    "classifier = Pipeline([('clf', GaussianProcessRegressor())])\n",
    "\n",
    "pipe = Pipeline([\n",
    "    ('preprocessing', preprocessing),\n",
    "    ('feature_selection', feature_selection),\n",
    "    ('classifier', classifier)])\n",
    "\n",
    "# You may need to specify other hyperparameters here if you investigate other blocks\n",
    "k_grid = [80] #all = 2186\n",
    "alpha_grid = [0.1]\n",
    "#C_grid = 10**np.arange(0,1,0.2)\n",
    "#C_grid = [10**i for i in range(-2,2)]\n",
    "# And make sure to add them to your param_grid\n",
    "\n",
    "param_grid = {\n",
    "    'feature_selection__selectkbest__k' : k_grid,\n",
    "    #'classifier__clf__C' : C_grid,\n",
    "    'classifier__clf__alpha' : alpha_grid\n",
    "}\n",
    "\n",
    "# define GridSearchCV object\n",
    "\n",
    "gridsearch = GridSearchCV(pipe, param_grid, n_jobs=4, cv=cv, verbose=3, \n",
    "                          return_train_score=True,scoring='neg_mean_absolute_error')\n",
    "\n",
    "# Train the pipeline\n",
    "#y_transformed = LabelEncoder().fit_transform(y)\n",
    "#gridsearch.fit(data,y_transformed)\n",
    "\n",
    "gridsearch.fit(data,y)"
   ]
  },
  {
   "cell_type": "code",
   "execution_count": 9,
   "id": "f045bceb",
   "metadata": {},
   "outputs": [
    {
     "name": "stdout",
     "output_type": "stream",
     "text": [
      "Average training accuracy across folds: -0.0497\n",
      "Average validation accuracy across folds: -0.13\n",
      "{'classifier__clf__alpha': 0.1, 'feature_selection__selectkbest__k': 80}\n"
     ]
    }
   ],
   "source": [
    "results = gridsearch.cv_results_\n",
    "train_score = results['mean_train_score'][gridsearch.best_index_]\n",
    "validation_score = results['mean_test_score'][gridsearch.best_index_]\n",
    "\n",
    "print('Average training accuracy across folds: {:.3}'.format(train_score))\n",
    "print('Average validation accuracy across folds: {:.3}'.format(validation_score))\n",
    "\n",
    "print(gridsearch.best_params_)"
   ]
  },
  {
   "cell_type": "code",
   "execution_count": null,
   "id": "f55f3523",
   "metadata": {},
   "outputs": [],
   "source": []
  },
  {
   "cell_type": "code",
   "execution_count": null,
   "id": "07e79f26",
   "metadata": {},
   "outputs": [],
   "source": []
  },
  {
   "cell_type": "code",
   "execution_count": null,
   "id": "60de0b0e",
   "metadata": {},
   "outputs": [],
   "source": []
  },
  {
   "cell_type": "code",
   "execution_count": 10,
   "id": "7aa2713b",
   "metadata": {},
   "outputs": [],
   "source": [
    "with open('Guassian_0.1_80','wb') as file:\n",
    "    pickle.dump(gridsearch, file)"
   ]
  },
  {
   "cell_type": "code",
   "execution_count": null,
   "id": "caa42ef1",
   "metadata": {},
   "outputs": [],
   "source": []
  }
 ],
 "metadata": {
  "kernelspec": {
   "display_name": "Python 3 (ipykernel)",
   "language": "python",
   "name": "python3"
  },
  "language_info": {
   "codemirror_mode": {
    "name": "ipython",
    "version": 3
   },
   "file_extension": ".py",
   "mimetype": "text/x-python",
   "name": "python",
   "nbconvert_exporter": "python",
   "pygments_lexer": "ipython3",
   "version": "3.9.12"
  }
 },
 "nbformat": 4,
 "nbformat_minor": 5
}
