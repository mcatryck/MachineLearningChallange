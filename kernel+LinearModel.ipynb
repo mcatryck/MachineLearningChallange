{
 "cells": [
  {
   "cell_type": "code",
   "execution_count": 6,
   "id": "298acf3e",
   "metadata": {},
   "outputs": [
    {
     "name": "stderr",
     "output_type": "stream",
     "text": [
      "Intel(R) Extension for Scikit-learn* enabled (https://github.com/intel/scikit-learn-intelex)\n"
     ]
    }
   ],
   "source": [
    "# imports:\n",
    "from sklearnex import patch_sklearn\n",
    "patch_sklearn()\n",
    "\n",
    "\n",
    "import numpy as np\n",
    "import pandas as pd\n",
    "import os\n",
    "import sklearn\n",
    "import csv\n",
    "import pickle\n",
    "import time\n",
    "import matplotlib.pyplot as plt\n",
    "\n",
    "%matplotlib notebook\n",
    "\n",
    "from tsfresh import extract_features\n",
    "from tsfresh import extract_relevant_features\n",
    "from sklearn.pipeline import Pipeline\n",
    "from sklearn.model_selection import GridSearchCV\n",
    "from sklearn.feature_selection import SelectKBest, VarianceThreshold \n",
    "from sklearn.kernel_ridge import KernelRidge\n",
    "from sklearn.metrics import mean_absolute_error\n",
    "from sklearn.preprocessing import Normalizer, StandardScaler, RobustScaler, MinMaxScaler\n",
    "from sklearn.preprocessing import PowerTransformer, QuantileTransformer\n",
    "from sklearn.model_selection import GroupKFold, StratifiedKFold, KFold, StratifiedGroupKFold, cross_validate\n",
    "from sklearn.model_selection import learning_curve\n",
    "from sklearn.compose import make_column_transformer"
   ]
  },
  {
   "cell_type": "code",
   "execution_count": 11,
   "id": "7b172c8a",
   "metadata": {},
   "outputs": [],
   "source": [
    "extracted_features =  pd.read_csv('raw_data.csv', index_col=0)\n",
    "data = extracted_features.dropna(axis=1)\n",
    "df_meta = pd.read_csv(\"train_meta.csv\")\n",
    "y = df_meta[\"label\"]\n",
    "y = y.to_numpy()"
   ]
  },
  {
   "cell_type": "code",
   "execution_count": 12,
   "id": "7376d0bb",
   "metadata": {},
   "outputs": [],
   "source": [
    "n_folds =  15# Max 15 folds\n",
    "cv = KFold(n_splits=n_folds, shuffle=True,random_state=1000)"
   ]
  },
  {
   "cell_type": "code",
   "execution_count": 21,
   "id": "fdea59d3",
   "metadata": {},
   "outputs": [
    {
     "name": "stdout",
     "output_type": "stream",
     "text": [
      "Fitting 15 folds for each of 48 candidates, totalling 720 fits\n"
     ]
    },
    {
     "data": {
      "text/plain": [
       "GridSearchCV(cv=KFold(n_splits=15, random_state=1000, shuffle=True),\n",
       "             estimator=Pipeline(steps=[('preprocessing',\n",
       "                                        Pipeline(steps=[('VT1',\n",
       "                                                         VarianceThreshold(threshold=0)),\n",
       "                                                        ('QT',\n",
       "                                                         QuantileTransformer()),\n",
       "                                                        ('VT2',\n",
       "                                                         VarianceThreshold(threshold=0))])),\n",
       "                                       ('feature_selection',\n",
       "                                        Pipeline(steps=[('selectkbest',\n",
       "                                                         SelectKBest())])),\n",
       "                                       ('classifier',\n",
       "                                        Pipeline(steps=[('clf',\n",
       "                                                         KernelRidge())]))]),\n",
       "             n_jobs=4,\n",
       "             param_grid={'classifier__clf__alpha': [0.001, 0.01, 0.05],\n",
       "                         'classifier__clf__gamma': [0.05, 0.1, 0.15, 0.2],\n",
       "                         'classifier__clf__kernel': ['laplacian'],\n",
       "                         'feature_selection__selectkbest__k': [50, 40, 30, 20]},\n",
       "             return_train_score=True, scoring='neg_mean_absolute_error',\n",
       "             verbose=3)"
      ]
     },
     "execution_count": 21,
     "metadata": {},
     "output_type": "execute_result"
    }
   ],
   "source": [
    "preprocessing = Pipeline([\n",
    "                        ('VT1', VarianceThreshold(threshold=0)),\n",
    "                        ('QT', QuantileTransformer()),\n",
    "                        ('VT2', VarianceThreshold(threshold=0))\n",
    "                         ])  \n",
    "\n",
    "#  Feature selection, you can also try others\n",
    "feature_selection = Pipeline([('selectkbest', SelectKBest())])  \n",
    "\n",
    "classifier = Pipeline([('clf', KernelRidge())])\n",
    "\n",
    "pipe = Pipeline([\n",
    "    ('preprocessing', preprocessing),\n",
    "    ('feature_selection', feature_selection),\n",
    "    ('classifier', classifier)])\n",
    "\n",
    "# You may need to specify other hyperparameters here if you investigate other blocks\n",
    "k_grid = [50,40,30,20]\n",
    "alpha_grid = [0.001,0.01,0.05]\n",
    "gamma_grid = [0.05,0.1,0.15,0.2]\n",
    "kernel_grid = ['laplacian']\n",
    "\n",
    "# And make sure to add them to your param_grid\n",
    "\n",
    "param_grid = {\n",
    "    'feature_selection__selectkbest__k' : k_grid,\n",
    "    'classifier__clf__alpha' : alpha_grid,\n",
    "    'classifier__clf__kernel' : kernel_grid,\n",
    "    'classifier__clf__gamma' : gamma_grid\n",
    "}\n",
    "\n",
    "# define GridSearchCV object\n",
    "\n",
    "gridsearch = GridSearchCV(pipe, param_grid, n_jobs=4, cv=cv, verbose=3, \n",
    "                          return_train_score=True,scoring='neg_mean_absolute_error')\n",
    "\n",
    "# Train the pipeline\n",
    "\n",
    "gridsearch.fit(data,y)"
   ]
  },
  {
   "cell_type": "code",
   "execution_count": null,
   "id": "9b658db9",
   "metadata": {},
   "outputs": [],
   "source": []
  },
  {
   "cell_type": "code",
   "execution_count": 22,
   "id": "da4088be",
   "metadata": {},
   "outputs": [
    {
     "name": "stdout",
     "output_type": "stream",
     "text": [
      "Average training accuracy across folds: -0.00448\n",
      "Average validation accuracy across folds: -0.121\n",
      "{'classifier__clf__alpha': 0.01, 'classifier__clf__gamma': 0.15, 'classifier__clf__kernel': 'laplacian', 'feature_selection__selectkbest__k': 40}\n"
     ]
    }
   ],
   "source": [
    "results = gridsearch.cv_results_\n",
    "train_score = results['mean_train_score'][gridsearch.best_index_]\n",
    "validation_score = results['mean_test_score'][gridsearch.best_index_]\n",
    "\n",
    "print('Average training accuracy across folds: {:.3}'.format(train_score))\n",
    "print('Average validation accuracy across folds: {:.3}'.format(validation_score))\n",
    "\n",
    "print(gridsearch.best_params_)"
   ]
  },
  {
   "cell_type": "code",
   "execution_count": 23,
   "id": "bcd80461",
   "metadata": {},
   "outputs": [],
   "source": [
    "with open('kernelridge_v1','wb') as file:\n",
    "    pickle.dump(gridsearch, file)"
   ]
  },
  {
   "cell_type": "code",
   "execution_count": null,
   "id": "0794ee27",
   "metadata": {},
   "outputs": [],
   "source": []
  }
 ],
 "metadata": {
  "kernelspec": {
   "display_name": "Python 3 (ipykernel)",
   "language": "python",
   "name": "python3"
  },
  "language_info": {
   "codemirror_mode": {
    "name": "ipython",
    "version": 3
   },
   "file_extension": ".py",
   "mimetype": "text/x-python",
   "name": "python",
   "nbconvert_exporter": "python",
   "pygments_lexer": "ipython3",
   "version": "3.9.12"
  }
 },
 "nbformat": 4,
 "nbformat_minor": 5
}
