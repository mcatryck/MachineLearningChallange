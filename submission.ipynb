{
 "cells": [
  {
   "cell_type": "code",
   "execution_count": 1,
   "id": "2f88676c",
   "metadata": {},
   "outputs": [],
   "source": [
    "import pandas as pd\n",
    "import sklearn\n",
    "import pickle\n",
    "from tsfresh import extract_features"
   ]
  },
  {
   "cell_type": "code",
   "execution_count": 2,
   "id": "32ef134b",
   "metadata": {},
   "outputs": [],
   "source": [
    "filename_test_data = 'raw_data_test.csv'\n",
    "filename_model = 'ridge_0.3_162'\n",
    "filename_answer_output = 'answer.csv'"
   ]
  },
  {
   "cell_type": "code",
   "execution_count": 3,
   "id": "36774980",
   "metadata": {
    "scrolled": true
   },
   "outputs": [],
   "source": [
    "extracted_features =  pd.read_csv(filename_test_data, index_col=0)\n",
    "data = extracted_features.dropna(axis=1)\n",
    "\n",
    "with open(filename_model, 'rb') as f:\n",
    "    model = pickle.load(f).best_estimator_\n",
    "\n",
    "predictions = pd.DataFrame([[i,e] for i,e in enumerate(model.predict(data))],columns=['id','misalignment'])\n",
    "predictions.to_csv(filename_answer_output, index=False)"
   ]
  }
 ],
 "metadata": {
  "kernelspec": {
   "display_name": "Python 3 (ipykernel)",
   "language": "python",
   "name": "python3"
  },
  "language_info": {
   "codemirror_mode": {
    "name": "ipython",
    "version": 3
   },
   "file_extension": ".py",
   "mimetype": "text/x-python",
   "name": "python",
   "nbconvert_exporter": "python",
   "pygments_lexer": "ipython3",
   "version": "3.9.12"
  }
 },
 "nbformat": 4,
 "nbformat_minor": 5
}
